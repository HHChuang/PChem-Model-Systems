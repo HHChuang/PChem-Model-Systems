{
 "cells": [
  {
   "cell_type": "markdown",
   "metadata": {},
   "source": [
    "# One particle in a box \n",
    "\n",
    "## Setting model system \n",
    "Solving the time-independent Schrodinger equation, $\\hat{H} \\Psi = E \\Psi$, for one particle in a box (i.e., finding the wavefunctions and their corresponding energies with given boundary conditions). The Hamiltonian and the boundary condition for the potential are\n",
    "$$\n",
    "    \\hat{H} = - \\frac{\\hbar^2}{2m} \\frac{d^2}{dx^2} + V(x) \\text{, and }  \n",
    "    % \\[\n",
    "        V = \n",
    "        \\begin{cases}\n",
    "            0 &  \\quad \\text{if } 0 < x < L \\\\\n",
    "            \\infty &  \\quad \\text{if } x \\le 0 \\text{ or } x \\ge L \n",
    "        \\end{cases}\n",
    "    % \\]\n",
    "$$\n",
    "where $\\hbar$, $m$ are the reduced Planck constant and the mass of particle. This particle is confined in an one-dimensional box with the length from $0$ to $L$ that the The postulate wavefunction is \n",
    "$$ \n",
    "    \\Psi(x) = A \\sin(kx) + B \\cos(kx), \n",
    "$$ \n",
    "where $A$ and $B$ are unknown coefficients, and $k$ is also unknown. \n",
    "\n",
    "## Tasks \n",
    "1. Finding the analytical expression for both wavefunction and energy, $\\Psi$ and $E$. \n",
    "2. If we don't know the analytical solution, how to solve this problem numerically. \n",
    "\n",
    "## Tips\n",
    "Compare the plots of above analytical and numerical solution. "
   ]
  },
  {
   "cell_type": "markdown",
   "metadata": {},
   "source": [
    "## Task 1, Analytical solution\n",
    "\n",
    "Plug postulate wavefunciton into Schrodinger equation, $\\hat{H}\\Psi=E\\Psi$ . \n",
    "$$\n",
    "    -\\frac{\\hbar}{2m} \\frac{d^2}{dx^2} \\cdot \n",
    "    \\big(\n",
    "        A \\sin(kx) + B \\cos(kx)\n",
    "    \\big) \\\\ \n",
    "    = -\\frac{\\hbar}{2m} \\cdot \n",
    "    \\big(\n",
    "        - A k^2 \\sin(x) + B k^2 \\cos(x) \n",
    "    \\big),\n",
    "$$\n",
    "and then from the boundary conditions, \n",
    "$$\n",
    "    \n",
    "$$ "
   ]
  }
 ],
 "metadata": {
  "kernelspec": {
   "display_name": "Python 3.9.7 64-bit ('miniconda3')",
   "language": "python",
   "name": "python3"
  },
  "language_info": {
   "codemirror_mode": {
    "name": "ipython",
    "version": 3
   },
   "file_extension": ".py",
   "mimetype": "text/x-python",
   "name": "python",
   "nbconvert_exporter": "python",
   "pygments_lexer": "ipython3",
   "version": "3.9.7"
  },
  "orig_nbformat": 4,
  "vscode": {
   "interpreter": {
    "hash": "16fbc3e55baa8365404c4c1d4a0e2bb50a3e5bd1784db484b3152a116ef6aaef"
   }
  }
 },
 "nbformat": 4,
 "nbformat_minor": 2
}
