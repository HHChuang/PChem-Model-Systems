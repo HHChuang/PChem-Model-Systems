{
 "cells": [
  {
   "cell_type": "markdown",
   "metadata": {},
   "source": [
    "# One particle in a box \n",
    "\n",
    "## Setting model system \n",
    "Solving the time-independent Schrodinger equation, $\\hat{H} \\Psi = E \\Psi$, for one particle in a box (i.e., finding the wavefunctions and their corresponding energies with given boundary conditions). The Hamiltonian and the boundary condition for the potential are\n",
    "$$\n",
    "    \\hat{H} = - \\frac{\\hbar^2}{2m} \\frac{d^2}{dx^2} + V(x) \\text{, and }  \n",
    "    % \\[\n",
    "        V = \n",
    "        \\begin{cases}\n",
    "            0 &  \\quad \\text{if } 0 < x < L \\\\\n",
    "            \\infty &  \\quad \\text{if } x \\le 0 \\text{ or } x \\ge L \n",
    "        \\end{cases}\n",
    "    % \\]\n",
    "$$\n",
    "where $\\hbar$, $m$ are the reduced Planck constant and the mass of particle. This particle is confined in an one-dimensional box with the length from $0$ to $L$ that the The postulate wavefunction is \n",
    "$$ \n",
    "    \\Psi(x) = A \\sin(kx) + B \\cos(kx), \n",
    "$$ \n",
    "where $A$ and $B$ are unknown coefficients, and $k$ is also unknown. \n",
    "\n",
    "### Tasks \n",
    "1. Finding the analytical expression for both wavefunction and energy, $\\Psi$ and $E$. \n",
    "2. If we don't know the analytical solution, how to solve this problem numerically. \n",
    "\n",
    "### Tips\n",
    "Compare the plots of above analytical and numerical solution. "
   ]
  },
  {
   "cell_type": "markdown",
   "metadata": {},
   "source": [
    "## Task 1, Analytical solution\n",
    "\n",
    "Plug postulate wavefunction into Schrodinger equation, $\\hat{H}\\Psi=E\\Psi$ . The left hand side is\n",
    "$$\n",
    "    -\\frac{\\hbar^2}{2m} \\frac{d^2}{dx^2} \\cdot \n",
    "    \\big(\n",
    "        A \\sin(kx) + B \\cos(kx)\n",
    "    \\big) \\\\ \n",
    "    = -\\frac{\\hbar^2}{2m} \\cdot \n",
    "    \\big(\n",
    "        - A k^2 \\sin(x) + B k^2 \\cos(x) \n",
    "    \\big),\n",
    "$$\n",
    "and then from the boundary conditions, x=0, \n",
    "$$\n",
    "    -\\frac{\\hbar^2}{2m}(-Bk^2)=0 \\rightarrow B=0 \\rightarrow \\Psi(x) = A\\sin(kx).\n",
    "$$ \n",
    "The other boundary condition, x=L, \n",
    "$$\n",
    "    -\\frac{\\hbar^2}{2m}Ak^2\\sin(kL)= EA\\sin(kL) \\\\\n",
    "    \\rightarrow kL = \\pi, 2\\pi .... \\rightarrow k=\\frac{n\\pi}{L}, n=1,2,3, ...\n",
    "$$\n",
    "The energy is \n",
    "$$\n",
    "    E = \\frac{\\hbar^2}{2m}k^2 = \\frac{n^2h^2}{8mL^2}\n",
    "$$\n",
    "To find the unknown coefficient, consider the normalization condition. \n",
    "$$\n",
    "    \\int^L_0 |\n",
    "        \\Psi \n",
    "    |^2 dx = 1 \\\\\n",
    "    \\rightarrow \\int^L_0 \\Big[\n",
    "        A\\sin \\big(\n",
    "            \\frac{n\\pi}{L}x\n",
    "        \\big)\n",
    "    \\Big]^2 dx = \n",
    "    \\int^L_0 \n",
    "        A^2 \\frac{1}{2} \n",
    "        \\Big(\n",
    "            1 - \\cos \\big(\n",
    "                \\frac{2n\\pi}{L}x\n",
    "            \\big)\n",
    "        \\Big)^2 dx = \n",
    "    \\frac{A^2}{2} L^2 = 1 \\\\ \n",
    "    \\rightarrow A = \\sqrt{\\frac{2}{L}}\n",
    "$$\n",
    "The wavefunction is $\\Psi = \\sqrt{\\frac{2}{L}} \\sin (\\frac{n\\pi}{L} x)$"
   ]
  }
 ],
 "metadata": {
  "kernelspec": {
   "display_name": "Python 3.9.7 64-bit ('miniconda3')",
   "language": "python",
   "name": "python3"
  },
  "language_info": {
   "codemirror_mode": {
    "name": "ipython",
    "version": 3
   },
   "file_extension": ".py",
   "mimetype": "text/x-python",
   "name": "python",
   "nbconvert_exporter": "python",
   "pygments_lexer": "ipython3",
   "version": "3.9.7"
  },
  "orig_nbformat": 4,
  "vscode": {
   "interpreter": {
    "hash": "16fbc3e55baa8365404c4c1d4a0e2bb50a3e5bd1784db484b3152a116ef6aaef"
   }
  }
 },
 "nbformat": 4,
 "nbformat_minor": 2
}
